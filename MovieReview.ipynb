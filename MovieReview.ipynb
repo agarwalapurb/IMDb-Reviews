{
  "nbformat": 4,
  "nbformat_minor": 0,
  "metadata": {
    "colab": {
      "name": "Untitled3.ipynb",
      "provenance": []
    },
    "kernelspec": {
      "name": "python3",
      "display_name": "Python 3"
    },
    "language_info": {
      "name": "python"
    }
  },
  "cells": [
    {
      "cell_type": "code",
      "execution_count": 1,
      "metadata": {
        "id": "Zin4dFRO5vNS"
      },
      "outputs": [],
      "source": [
        "import tensorflow as tf\n",
        "import numpy as np\n",
        "import os\n",
        "import csv\n",
        "import pandas as pd"
      ]
    },
    {
      "cell_type": "code",
      "source": [
        "! pip install kaggle"
      ],
      "metadata": {
        "colab": {
          "base_uri": "https://localhost:8080/"
        },
        "id": "SFIJ2DQw5wz9",
        "outputId": "d906b453-9132-436e-bb17-5612ce0a34ae"
      },
      "execution_count": 2,
      "outputs": [
        {
          "output_type": "stream",
          "name": "stdout",
          "text": [
            "Looking in indexes: https://pypi.org/simple, https://us-python.pkg.dev/colab-wheels/public/simple/\n",
            "Requirement already satisfied: kaggle in /usr/local/lib/python3.7/dist-packages (1.5.12)\n",
            "Requirement already satisfied: python-slugify in /usr/local/lib/python3.7/dist-packages (from kaggle) (6.1.2)\n",
            "Requirement already satisfied: tqdm in /usr/local/lib/python3.7/dist-packages (from kaggle) (4.64.0)\n",
            "Requirement already satisfied: six>=1.10 in /usr/local/lib/python3.7/dist-packages (from kaggle) (1.15.0)\n",
            "Requirement already satisfied: python-dateutil in /usr/local/lib/python3.7/dist-packages (from kaggle) (2.8.2)\n",
            "Requirement already satisfied: urllib3 in /usr/local/lib/python3.7/dist-packages (from kaggle) (1.24.3)\n",
            "Requirement already satisfied: requests in /usr/local/lib/python3.7/dist-packages (from kaggle) (2.23.0)\n",
            "Requirement already satisfied: certifi in /usr/local/lib/python3.7/dist-packages (from kaggle) (2022.6.15)\n",
            "Requirement already satisfied: text-unidecode>=1.3 in /usr/local/lib/python3.7/dist-packages (from python-slugify->kaggle) (1.3)\n",
            "Requirement already satisfied: idna<3,>=2.5 in /usr/local/lib/python3.7/dist-packages (from requests->kaggle) (2.10)\n",
            "Requirement already satisfied: chardet<4,>=3.0.2 in /usr/local/lib/python3.7/dist-packages (from requests->kaggle) (3.0.4)\n"
          ]
        }
      ]
    },
    {
      "cell_type": "code",
      "source": [
        "! mkdir ~/.kaggle"
      ],
      "metadata": {
        "id": "oFcKkf0y5zHF"
      },
      "execution_count": 3,
      "outputs": []
    },
    {
      "cell_type": "code",
      "source": [
        "! cp kaggle.json ~/.kaggle/"
      ],
      "metadata": {
        "id": "j4bg2zIc51qI"
      },
      "execution_count": 5,
      "outputs": []
    },
    {
      "cell_type": "code",
      "source": [
        "! chmod 600 ~/.kaggle/kaggle.json"
      ],
      "metadata": {
        "id": "fRGTTi756JsW"
      },
      "execution_count": 6,
      "outputs": []
    },
    {
      "cell_type": "code",
      "source": [
        "! kaggle datasets download lakshmi25npathi/imdb-dataset-of-50k-movie-reviews"
      ],
      "metadata": {
        "colab": {
          "base_uri": "https://localhost:8080/"
        },
        "id": "2TLPX_Rj7zse",
        "outputId": "ddd4e57b-eed4-4cf3-b8dc-5c75eb9d6fb4"
      },
      "execution_count": 7,
      "outputs": [
        {
          "output_type": "stream",
          "name": "stdout",
          "text": [
            "Downloading imdb-dataset-of-50k-movie-reviews.zip to /content\n",
            "\r  0% 0.00/25.7M [00:00<?, ?B/s]\r 19% 5.00M/25.7M [00:00<00:00, 50.7MB/s]\n",
            "\r100% 25.7M/25.7M [00:00<00:00, 164MB/s] \n"
          ]
        }
      ]
    },
    {
      "cell_type": "code",
      "source": [
        "! unzip \"/content/imdb-dataset-of-50k-movie-reviews.zip\""
      ],
      "metadata": {
        "colab": {
          "base_uri": "https://localhost:8080/"
        },
        "id": "LPi40hsR73h-",
        "outputId": "05c9d205-3853-4367-f705-3932838196a6"
      },
      "execution_count": 8,
      "outputs": [
        {
          "output_type": "stream",
          "name": "stdout",
          "text": [
            "Archive:  /content/imdb-dataset-of-50k-movie-reviews.zip\n",
            "  inflating: IMDB Dataset.csv        \n"
          ]
        }
      ]
    },
    {
      "cell_type": "code",
      "source": [
        "df = pd.read_csv(\"/content/IMDB Dataset.csv\")\n",
        "print(df.head())"
      ],
      "metadata": {
        "colab": {
          "base_uri": "https://localhost:8080/"
        },
        "id": "y7NqZvqM75FS",
        "outputId": "e79a84bd-75ac-4be2-8cac-33f13d1f91bb"
      },
      "execution_count": 9,
      "outputs": [
        {
          "output_type": "stream",
          "name": "stdout",
          "text": [
            "                                              review sentiment\n",
            "0  One of the other reviewers has mentioned that ...  positive\n",
            "1  A wonderful little production. <br /><br />The...  positive\n",
            "2  I thought this was a wonderful way to spend ti...  positive\n",
            "3  Basically there's a family where a little boy ...  negative\n",
            "4  Petter Mattei's \"Love in the Time of Money\" is...  positive\n"
          ]
        }
      ]
    },
    {
      "cell_type": "code",
      "source": [
        "null = pd.isnull(df[\"review\"])\n",
        "print(df[null])"
      ],
      "metadata": {
        "colab": {
          "base_uri": "https://localhost:8080/"
        },
        "id": "o_949qll77cU",
        "outputId": "b43077b9-89ba-4242-9567-17458b5cd903"
      },
      "execution_count": 10,
      "outputs": [
        {
          "output_type": "stream",
          "name": "stdout",
          "text": [
            "Empty DataFrame\n",
            "Columns: [review, sentiment]\n",
            "Index: []\n"
          ]
        }
      ]
    },
    {
      "cell_type": "code",
      "source": [
        "null = pd.isnull(df[\"sentiment\"])\n",
        "print(df[null])"
      ],
      "metadata": {
        "colab": {
          "base_uri": "https://localhost:8080/"
        },
        "id": "BIh8vLjK8Abn",
        "outputId": "5b0f8d04-b76e-4a4c-d120-61cb2c3b9ef1"
      },
      "execution_count": 11,
      "outputs": [
        {
          "output_type": "stream",
          "name": "stdout",
          "text": [
            "Empty DataFrame\n",
            "Columns: [review, sentiment]\n",
            "Index: []\n"
          ]
        }
      ]
    },
    {
      "cell_type": "code",
      "source": [
        "reviews = df['review'].tolist()\n",
        "sentiments = df['sentiment'].tolist()"
      ],
      "metadata": {
        "id": "n7Y341IC8CFZ"
      },
      "execution_count": 12,
      "outputs": []
    },
    {
      "cell_type": "code",
      "source": [
        "sentiments_final = np.array([])\n",
        "for sentiment in sentiments:\n",
        "  if sentiment == 'positive':\n",
        "    sentiments_final = np.append(sentiments_final, 1.0)\n",
        "  else:\n",
        "    sentiments_final = np.append(sentiments_final, 0.0)"
      ],
      "metadata": {
        "id": "82WYYOH08LSB"
      },
      "execution_count": 13,
      "outputs": []
    },
    {
      "cell_type": "code",
      "source": [
        "print(sentiments_final.shape)"
      ],
      "metadata": {
        "colab": {
          "base_uri": "https://localhost:8080/"
        },
        "id": "sLqeOxc08Qyu",
        "outputId": "08e8a5af-3885-44ab-a5d3-18119c97f2b3"
      },
      "execution_count": 14,
      "outputs": [
        {
          "output_type": "stream",
          "name": "stdout",
          "text": [
            "(50000,)\n"
          ]
        }
      ]
    },
    {
      "cell_type": "code",
      "source": [
        "train_reviews = reviews[:40000]\n",
        "val_reviews = reviews[40000:48000]\n",
        "test_reviews = reviews[48000:]\n",
        "\n",
        "train_sentiments = np.array(sentiments_final[:40000])\n",
        "val_sentiments = np.array(sentiments_final[40000:48000])\n",
        "test_sentiments = np.array(sentiments_final[48000:])"
      ],
      "metadata": {
        "id": "xSD7UQHH8WUr"
      },
      "execution_count": 15,
      "outputs": []
    },
    {
      "cell_type": "code",
      "source": [
        "tokenizer = tf.keras.preprocessing.text.Tokenizer(num_words=10000, oov_token=\"<OOV>\")\n",
        "tokenizer.fit_on_texts(train_reviews)\n",
        "words = tokenizer.word_index\n",
        "print(len(words.items()))"
      ],
      "metadata": {
        "colab": {
          "base_uri": "https://localhost:8080/"
        },
        "id": "05ZlHLqr8Wej",
        "outputId": "15d54a87-6695-48bb-b99d-4d169a0a7050"
      },
      "execution_count": 16,
      "outputs": [
        {
          "output_type": "stream",
          "name": "stdout",
          "text": [
            "112174\n"
          ]
        }
      ]
    },
    {
      "cell_type": "code",
      "source": [
        "vocab_size=10000"
      ],
      "metadata": {
        "id": "d_nsc_dG8vTS"
      },
      "execution_count": 17,
      "outputs": []
    },
    {
      "cell_type": "code",
      "source": [
        "train_sequences = tokenizer.texts_to_sequences(train_reviews)"
      ],
      "metadata": {
        "id": "dn9VrXWo8wi8"
      },
      "execution_count": 18,
      "outputs": []
    },
    {
      "cell_type": "code",
      "source": [
        "len_1500 = 0\n",
        "len_1000 = 0\n",
        "len_500 = 0\n",
        "len_100 = 0\n",
        "len_rem = 0\n",
        "for i in range(len(train_sequences)):\n",
        "  if len(train_sequences[i])>1500:\n",
        "    len_1500+=1\n",
        "  if len(train_sequences[i])>1000 and len(train_sequences[i])<=1500:\n",
        "    len_1000+=1\n",
        "  if len(train_sequences[i])>500 and len(train_sequences[i])<=1000:\n",
        "    len_500+=1\n",
        "  if len(train_sequences[i])>100 and len(train_sequences[i])<=500:\n",
        "    len_100+=1\n",
        "  if len(train_sequences[i])>0 and len(train_sequences[i])<=100:\n",
        "    len_rem+=1\n",
        "\n",
        "print(len_1500, len_1000, len_500, len_100, len_rem)"
      ],
      "metadata": {
        "colab": {
          "base_uri": "https://localhost:8080/"
        },
        "id": "yNSlNRI99u4o",
        "outputId": "89f6d641-5802-41c5-96cd-adeb8cc56587"
      },
      "execution_count": 19,
      "outputs": [
        {
          "output_type": "stream",
          "name": "stdout",
          "text": [
            "9 156 3091 32046 4698\n"
          ]
        }
      ]
    },
    {
      "cell_type": "code",
      "source": [
        "maxlen = 600"
      ],
      "metadata": {
        "id": "ei-eYH-F9wTf"
      },
      "execution_count": 20,
      "outputs": []
    },
    {
      "cell_type": "code",
      "source": [
        "train_sequences = tf.keras.preprocessing.sequence.pad_sequences(train_sequences, padding='post', truncating='post', maxlen=maxlen)\n",
        "\n",
        "val_sequences = tokenizer.texts_to_sequences(val_reviews)\n",
        "val_sequences = tf.keras.preprocessing.sequence.pad_sequences(val_sequences, padding='post', truncating='post', maxlen=maxlen)\n",
        "\n",
        "test_sequences = tokenizer.texts_to_sequences(test_reviews)\n",
        "test_sequences = tf.keras.preprocessing.sequence.pad_sequences(test_sequences, padding='post', truncating='post', maxlen=maxlen)"
      ],
      "metadata": {
        "id": "7AkKCBfE-BdN"
      },
      "execution_count": 21,
      "outputs": []
    },
    {
      "cell_type": "code",
      "source": [
        "print(train_sequences.shape)\n",
        "print(train_sentiments.shape)"
      ],
      "metadata": {
        "colab": {
          "base_uri": "https://localhost:8080/"
        },
        "id": "0O5IdHq--HqF",
        "outputId": "e871e62c-a472-4c9d-e912-84f250188ab9"
      },
      "execution_count": 22,
      "outputs": [
        {
          "output_type": "stream",
          "name": "stdout",
          "text": [
            "(40000, 600)\n",
            "(40000,)\n"
          ]
        }
      ]
    },
    {
      "cell_type": "code",
      "source": [
        "embedding_dim = 32\n",
        "model = tf.keras.Sequential([\n",
        "                             tf.keras.layers.Embedding(vocab_size, embedding_dim, input_length=maxlen),\n",
        "                             tf.keras.layers.GlobalAveragePooling1D(),\n",
        "                             tf.keras.layers.Dense(128, activation='relu'),\n",
        "                             tf.keras.layers.Dropout(0.2),\n",
        "                             tf.keras.layers.Dense(32, activation='relu'),\n",
        "                             tf.keras.layers.Dropout(0.2),\n",
        "                             tf.keras.layers.Dense(1, activation='sigmoid')\n",
        "])"
      ],
      "metadata": {
        "id": "eHoCCBgo-NG3"
      },
      "execution_count": 25,
      "outputs": []
    },
    {
      "cell_type": "code",
      "source": [
        "model.compile(loss = 'binary_crossentropy', optimizer = 'adam', metrics = ['accuracy'])\n",
        "model.summary()\n",
        "callback = tf.keras.callbacks.EarlyStopping(monitor='loss', patience=10)\n",
        "history = model.fit(train_sequences, train_sentiments, epochs = 10, validation_data=(val_sequences, val_sentiments), callbacks = [callback])"
      ],
      "metadata": {
        "colab": {
          "base_uri": "https://localhost:8080/"
        },
        "id": "DPvIo9Dr-Y8O",
        "outputId": "a3806b69-2549-4c25-bbb8-4cf014671485"
      },
      "execution_count": 26,
      "outputs": [
        {
          "output_type": "stream",
          "name": "stdout",
          "text": [
            "Model: \"sequential_1\"\n",
            "_________________________________________________________________\n",
            " Layer (type)                Output Shape              Param #   \n",
            "=================================================================\n",
            " embedding_1 (Embedding)     (None, 600, 32)           320000    \n",
            "                                                                 \n",
            " global_average_pooling1d_1   (None, 32)               0         \n",
            " (GlobalAveragePooling1D)                                        \n",
            "                                                                 \n",
            " dense_3 (Dense)             (None, 128)               4224      \n",
            "                                                                 \n",
            " dropout_2 (Dropout)         (None, 128)               0         \n",
            "                                                                 \n",
            " dense_4 (Dense)             (None, 32)                4128      \n",
            "                                                                 \n",
            " dropout_3 (Dropout)         (None, 32)                0         \n",
            "                                                                 \n",
            " dense_5 (Dense)             (None, 1)                 33        \n",
            "                                                                 \n",
            "=================================================================\n",
            "Total params: 328,385\n",
            "Trainable params: 328,385\n",
            "Non-trainable params: 0\n",
            "_________________________________________________________________\n",
            "Epoch 1/10\n",
            "1250/1250 [==============================] - 18s 13ms/step - loss: 0.3925 - accuracy: 0.8082 - val_loss: 0.2688 - val_accuracy: 0.8896\n",
            "Epoch 2/10\n",
            "1250/1250 [==============================] - 14s 11ms/step - loss: 0.2313 - accuracy: 0.9099 - val_loss: 0.2579 - val_accuracy: 0.8956\n",
            "Epoch 3/10\n",
            "1250/1250 [==============================] - 14s 11ms/step - loss: 0.1993 - accuracy: 0.9254 - val_loss: 0.2776 - val_accuracy: 0.8898\n",
            "Epoch 4/10\n",
            "1250/1250 [==============================] - 15s 12ms/step - loss: 0.1803 - accuracy: 0.9339 - val_loss: 0.2704 - val_accuracy: 0.8946\n",
            "Epoch 5/10\n",
            "1250/1250 [==============================] - 14s 12ms/step - loss: 0.1635 - accuracy: 0.9408 - val_loss: 0.2924 - val_accuracy: 0.8889\n",
            "Epoch 6/10\n",
            "1250/1250 [==============================] - 14s 12ms/step - loss: 0.1508 - accuracy: 0.9458 - val_loss: 0.3181 - val_accuracy: 0.8838\n",
            "Epoch 7/10\n",
            "1250/1250 [==============================] - 16s 12ms/step - loss: 0.1374 - accuracy: 0.9523 - val_loss: 0.3347 - val_accuracy: 0.8874\n",
            "Epoch 8/10\n",
            "1250/1250 [==============================] - 14s 12ms/step - loss: 0.1258 - accuracy: 0.9539 - val_loss: 0.3467 - val_accuracy: 0.8903\n",
            "Epoch 9/10\n",
            "1250/1250 [==============================] - 16s 12ms/step - loss: 0.1140 - accuracy: 0.9578 - val_loss: 0.3624 - val_accuracy: 0.8876\n",
            "Epoch 10/10\n",
            "1250/1250 [==============================] - 15s 12ms/step - loss: 0.1018 - accuracy: 0.9614 - val_loss: 0.4152 - val_accuracy: 0.8870\n"
          ]
        }
      ]
    }
  ]
}